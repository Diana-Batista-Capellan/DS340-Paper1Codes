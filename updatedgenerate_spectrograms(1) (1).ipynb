{
  "nbformat": 4,
  "nbformat_minor": 0,
  "metadata": {
    "colab": {
      "provenance": []
    },
    "kernelspec": {
      "name": "python3",
      "display_name": "Python 3"
    },
    "language_info": {
      "name": "python"
    }
  },
  "cells": [
    {
      "cell_type": "code",
      "execution_count": 3,
      "metadata": {
        "colab": {
          "base_uri": "https://localhost:8080/"
        },
        "id": "1obOD8BcDtUK",
        "outputId": "ecb916ba-c857-4d94-e517-8abded85ef0d"
      },
      "outputs": [
        {
          "output_type": "stream",
          "name": "stdout",
          "text": [
            "Drive already mounted at /content/drive; to attempt to forcibly remount, call drive.mount(\"/content/drive\", force_remount=True).\n"
          ]
        },
        {
          "output_type": "stream",
          "name": "stderr",
          "text": [
            "100%|██████████| 9/9 [00:08<00:00,  1.11it/s]\n"
          ]
        }
      ],
      "source": [
        "import os\n",
        "\n",
        "import matplotlib\n",
        "matplotlib.use('agg')\n",
        "\n",
        "from matplotlib import pyplot as plt\n",
        "from matplotlib import cm\n",
        "from tqdm import tqdm\n",
        "import pylab\n",
        "\n",
        "import librosa\n",
        "from librosa import display\n",
        "import numpy as np\n",
        "\n",
        "from google.colab import drive\n",
        "drive.mount('/content/drive')\n",
        "\n",
        "WAV_DIR = '/content/drive/MyDrive/DS340W - Paper 1/wav_files/'\n",
        "IMG_DIR = '/content/drive/MyDrive/DS340W - Paper 1/spectrogram_images/'\n",
        "wav_files = os.listdir(WAV_DIR)\n",
        "\n",
        "for f in tqdm(wav_files):\n",
        "    try:\n",
        "        # Read wav-file\n",
        "        y, sr = librosa.load(WAV_DIR+f, sr = 22050) # Use the default sampling rate of 22,050 Hz\n",
        "\n",
        "        # Pre-emphasis filter\n",
        "        pre_emphasis = 0.97\n",
        "        y = np.append(y[0], y[1:] - pre_emphasis * y[:-1])\n",
        "\n",
        "        # Compute spectrogram\n",
        "        M = librosa.feature.melspectrogram(y=y, sr=sr,\n",
        "                                           fmax = sr/2, # Maximum frequency to be used on the on the MEL scale\n",
        "                                           n_fft=2048,\n",
        "                                           hop_length=512,\n",
        "                                           n_mels = 96, # As per the Google Large-scale audio CNN paper\n",
        "                                           power = 2) # Power = 2 refers to squared amplitude\n",
        "\n",
        "        # Power in DB\n",
        "        log_power = librosa.power_to_db(M, ref=np.max)# Covert to dB (log) scale\n",
        "\n",
        "        # Plotting the spectrogram and save as JPG without axes (just the image)\n",
        "        pylab.figure(figsize=(3,3))\n",
        "        pylab.axis('off')\n",
        "        pylab.axes([0., 0., 1., 1.], frameon=False, xticks=[], yticks=[]) # Remove the white edge\n",
        "        librosa.display.specshow(log_power, cmap=cm.jet)\n",
        "        pylab.savefig(IMG_DIR + f[:-4]+'.jpg', bbox_inches=None, pad_inches=0)\n",
        "        pylab.close()\n",
        "\n",
        "    except Exception as e:\n",
        "        print(f, e)\n",
        "        pass"
      ]
    }
  ]
}