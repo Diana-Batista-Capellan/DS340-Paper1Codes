{
  "nbformat": 4,
  "nbformat_minor": 0,
  "metadata": {
    "colab": {
      "provenance": []
    },
    "kernelspec": {
      "name": "python3",
      "display_name": "Python 3"
    },
    "language_info": {
      "name": "python"
    }
  },
  "cells": [
    {
      "cell_type": "code",
      "execution_count": 1,
      "metadata": {
        "colab": {
          "base_uri": "https://localhost:8080/"
        },
        "id": "1obOD8BcDtUK",
        "outputId": "1cf90c74-3f05-434d-8a4b-c8b4e2ab9a89"
      },
      "outputs": [
        {
          "output_type": "stream",
          "name": "stdout",
          "text": [
            "Mounted at /content/drive\n"
          ]
        },
        {
          "output_type": "stream",
          "name": "stderr",
          "text": [
            " 11%|█         | 1/9 [00:20<02:44, 20.56s/it]"
          ]
        },
        {
          "output_type": "stream",
          "name": "stdout",
          "text": [
            "10000_Rock_music.wav melspectrogram() takes 0 positional arguments but 2 positional arguments (and 3 keyword-only arguments) were given\n"
          ]
        },
        {
          "output_type": "stream",
          "name": "stderr",
          "text": [
            "\r 22%|██▏       | 2/9 [00:21<01:01,  8.78s/it]"
          ]
        },
        {
          "output_type": "stream",
          "name": "stdout",
          "text": [
            "10003_Rhythm_blues.wav melspectrogram() takes 0 positional arguments but 2 positional arguments (and 3 keyword-only arguments) were given\n"
          ]
        },
        {
          "output_type": "stream",
          "name": "stderr",
          "text": [
            "\r 33%|███▎      | 3/9 [00:21<00:30,  5.13s/it]"
          ]
        },
        {
          "output_type": "stream",
          "name": "stdout",
          "text": [
            "10004_Reggae.wav melspectrogram() takes 0 positional arguments but 2 positional arguments (and 3 keyword-only arguments) were given\n"
          ]
        },
        {
          "output_type": "stream",
          "name": "stderr",
          "text": [
            "\r 44%|████▍     | 4/9 [00:22<00:16,  3.36s/it]"
          ]
        },
        {
          "output_type": "stream",
          "name": "stdout",
          "text": [
            "10005_Techno.wav melspectrogram() takes 0 positional arguments but 2 positional arguments (and 3 keyword-only arguments) were given\n"
          ]
        },
        {
          "output_type": "stream",
          "name": "stderr",
          "text": [
            "\r 56%|█████▌    | 5/9 [00:23<00:09,  2.43s/it]"
          ]
        },
        {
          "output_type": "stream",
          "name": "stdout",
          "text": [
            "10006_Rock_music.wav melspectrogram() takes 0 positional arguments but 2 positional arguments (and 3 keyword-only arguments) were given\n"
          ]
        },
        {
          "output_type": "stream",
          "name": "stderr",
          "text": [
            "\r 67%|██████▋   | 6/9 [00:24<00:05,  1.85s/it]"
          ]
        },
        {
          "output_type": "stream",
          "name": "stdout",
          "text": [
            "10007_Techno.wav melspectrogram() takes 0 positional arguments but 2 positional arguments (and 3 keyword-only arguments) were given\n"
          ]
        },
        {
          "output_type": "stream",
          "name": "stderr",
          "text": [
            "\r 78%|███████▊  | 7/9 [00:24<00:02,  1.49s/it]"
          ]
        },
        {
          "output_type": "stream",
          "name": "stdout",
          "text": [
            "10008_Rhythm_blues.wav melspectrogram() takes 0 positional arguments but 2 positional arguments (and 3 keyword-only arguments) were given\n"
          ]
        },
        {
          "output_type": "stream",
          "name": "stderr",
          "text": [
            "\r 89%|████████▉ | 8/9 [00:25<00:01,  1.18s/it]"
          ]
        },
        {
          "output_type": "stream",
          "name": "stdout",
          "text": [
            "10009_Pop_music.wav melspectrogram() takes 0 positional arguments but 2 positional arguments (and 3 keyword-only arguments) were given\n"
          ]
        },
        {
          "output_type": "stream",
          "name": "stderr",
          "text": [
            "100%|██████████| 9/9 [00:26<00:00,  2.90s/it]"
          ]
        },
        {
          "output_type": "stream",
          "name": "stdout",
          "text": [
            "1000_Rhythm_blues.wav melspectrogram() takes 0 positional arguments but 2 positional arguments (and 3 keyword-only arguments) were given\n"
          ]
        },
        {
          "output_type": "stream",
          "name": "stderr",
          "text": [
            "\n"
          ]
        }
      ],
      "source": [
        "import os\n",
        "\n",
        "import matplotlib\n",
        "matplotlib.use('agg')\n",
        "\n",
        "from matplotlib import pyplot as plt\n",
        "from matplotlib import cm\n",
        "from tqdm import tqdm\n",
        "import pylab\n",
        "\n",
        "import librosa\n",
        "from librosa import display\n",
        "import numpy as np\n",
        "\n",
        "from google.colab import drive\n",
        "drive.mount('/content/drive')\n",
        "\n",
        "WAV_DIR = '/content/drive/MyDrive/DS340W - Paper 1/wav_files/'\n",
        "IMG_DIR = '/content/drive/MyDrive/DS340W - Paper 1/spectrogram_images/'\n",
        "wav_files = os.listdir(WAV_DIR)\n",
        "\n",
        "for f in tqdm(wav_files):\n",
        "    try:\n",
        "        # Read wav-file\n",
        "        y, sr = librosa.load(WAV_DIR+f, sr = 22050) # Use the default sampling rate of 22,050 Hz\n",
        "\n",
        "        # Pre-emphasis filter\n",
        "        pre_emphasis = 0.97\n",
        "        y = np.append(y[0], y[1:] - pre_emphasis * y[:-1])\n",
        "\n",
        "        # Compute spectrogram\n",
        "        M = librosa.feature.melspectrogram(y, sr,\n",
        "                                           fmax = sr/2, # Maximum frequency to be used on the on the MEL scale\n",
        "                                           n_fft=2048,\n",
        "                                           hop_length=512,\n",
        "                                           n_mels = 96, # As per the Google Large-scale audio CNN paper\n",
        "                                           power = 2) # Power = 2 refers to squared amplitude\n",
        "\n",
        "        # Power in DB\n",
        "        log_power = librosa.power_to_db(M, ref=np.max)# Covert to dB (log) scale\n",
        "\n",
        "        # Plotting the spectrogram and save as JPG without axes (just the image)\n",
        "        pylab.figure(figsize=(3,3))\n",
        "        pylab.axis('off')\n",
        "        pylab.axes([0., 0., 1., 1.], frameon=False, xticks=[], yticks=[]) # Remove the white edge\n",
        "        librosa.display.specshow(log_power, cmap=cm.jet)\n",
        "        pylab.savefig(IMG_DIR + f[:-4]+'.jpg', bbox_inches=None, pad_inches=0)\n",
        "        pylab.close()\n",
        "\n",
        "    except Exception as e:\n",
        "        print(f, e)\n",
        "        pass"
      ]
    }
  ]
}